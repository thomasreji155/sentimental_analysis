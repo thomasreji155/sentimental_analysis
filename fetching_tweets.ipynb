{
  "nbformat": 4,
  "nbformat_minor": 0,
  "metadata": {
    "colab": {
      "name": "fetching_tweets.ipynb",
      "provenance": [],
      "collapsed_sections": [],
      "mount_file_id": "1NWSFxMWQprQDeltV3HHHmdKRMsIJHVZm",
      "authorship_tag": "ABX9TyPn3yP4LfwNo+wi21YAXTzy",
      "include_colab_link": true
    },
    "kernelspec": {
      "name": "python3",
      "display_name": "Python 3"
    }
  },
  "cells": [
    {
      "cell_type": "markdown",
      "metadata": {
        "id": "view-in-github",
        "colab_type": "text"
      },
      "source": [
        "<a href=\"https://colab.research.google.com/github/thomasreji155/sentimental_analysis/blob/main/fetching_tweets.ipynb\" target=\"_parent\"><img src=\"https://colab.research.google.com/assets/colab-badge.svg\" alt=\"Open In Colab\"/></a>"
      ]
    },
    {
      "cell_type": "code",
      "metadata": {
        "id": "dmbniflNG2PR"
      },
      "source": [
        "import tweepy\n",
        "import webbrowser\n",
        "import time\n",
        "from textblob import TextBlob\n",
        "from wordcloud import WordCloud\n",
        "import pandas as pd\n",
        "import numpy as np\n",
        "import re\n",
        "import matplotlib.pyplot as plt"
      ],
      "execution_count": 1,
      "outputs": []
    },
    {
      "cell_type": "code",
      "metadata": {
        "id": "nu3473kQHPn-"
      },
      "source": [
        "consumer_key = \n",
        "consumer_secret ="
      ],
      "execution_count": 2,
      "outputs": []
    },
    {
      "cell_type": "code",
      "metadata": {
        "id": "P1jL_3CXQfPH"
      },
      "source": [
        "callback_uri = 'oob'"
      ],
      "execution_count": 3,
      "outputs": []
    },
    {
      "cell_type": "code",
      "metadata": {
        "colab": {
          "base_uri": "https://localhost:8080/"
        },
        "id": "yZTO7pCoSFVl",
        "outputId": "7fae1da0-2544-43b8-c314-ad5abb790499"
      },
      "source": [
        "auth = tweepy.OAuthHandler(consumer_key,consumer_secret, callback_uri)\n",
        "redirect_url = auth.get_authorization_url()\n",
        "print(redirect_url)"
      ],
      "execution_count": 4,
      "outputs": [
        {
          "output_type": "stream",
          "text": [
            "https://api.twitter.com/oauth/authorize?oauth_token=Be8ADQAAAAABKrlcAAABelzNRH8\n"
          ],
          "name": "stdout"
        }
      ]
    },
    {
      "cell_type": "code",
      "metadata": {
        "id": "lhuK4CTESW1-"
      },
      "source": [
        "user_pint_input = '3209184'"
      ],
      "execution_count": 5,
      "outputs": []
    },
    {
      "cell_type": "code",
      "metadata": {
        "colab": {
          "base_uri": "https://localhost:8080/"
        },
        "id": "bnEfn8dET-0c",
        "outputId": "98f62535-c1a2-47fe-983d-543b863113af"
      },
      "source": [
        "auth.get_access_token(user_pint_input)"
      ],
      "execution_count": 6,
      "outputs": [
        {
          "output_type": "execute_result",
          "data": {
            "text/plain": [
              "('1265296475061456907-Dv13bYAKLbfxRWHE3axNNNTAxwoePV',\n",
              " '0TRhlSc6su9MFZ2pJq2vJPay7qGLXlPAY3usxS8jFHFsT')"
            ]
          },
          "metadata": {
            "tags": []
          },
          "execution_count": 6
        }
      ]
    },
    {
      "cell_type": "code",
      "metadata": {
        "colab": {
          "base_uri": "https://localhost:8080/"
        },
        "id": "w8DSyiRqUH9R",
        "outputId": "802ce6c9-a7d5-42e3-cc5f-97467f8942d9"
      },
      "source": [
        "print(auth.access_token,  auth.access_token_secret)"
      ],
      "execution_count": null,
      "outputs": [
        {
          "output_type": "stream",
          "text": [
            "1265296475061456907-OZKc0025o3USDM7v0hkHJtCaUVAJL9 qPg7rTcdjSTfMw0Iwa0kFnXjpseJ6sLqQRjKjaySEHFg4\n"
          ],
          "name": "stdout"
        }
      ]
    },
    {
      "cell_type": "code",
      "metadata": {
        "id": "kW35qZNqUyWP"
      },
      "source": [
        "accessToken = '1265296475061456907-OZKc0025o3USDM7v0hkHJtCaUVAJL9'\n",
        "accessTokenSecret = 'qPg7rTcdjSTfMw0Iwa0kFnXjpseJ6sLqQRjKjaySEHFg4'"
      ],
      "execution_count": null,
      "outputs": []
    },
    {
      "cell_type": "code",
      "metadata": {
        "id": "Cgf9bYVwUow2"
      },
      "source": [
        "### set the access token and access token secret \n",
        "auth.set_access_token(accessToken,accessTokenSecret)"
      ],
      "execution_count": null,
      "outputs": []
    },
    {
      "cell_type": "code",
      "metadata": {
        "id": "X10RKJxOdRs-"
      },
      "source": [
        "# Crate the api object while passing in the auth information \n",
        "api = tweepy.API(auth,wait_on_rate_limit = True)"
      ],
      "execution_count": null,
      "outputs": []
    },
    {
      "cell_type": "code",
      "metadata": {
        "id": "7l74TxnfgPI5"
      },
      "source": [
        "public_tweets = api.search('new education policy')"
      ],
      "execution_count": null,
      "outputs": []
    },
    {
      "cell_type": "code",
      "metadata": {
        "colab": {
          "base_uri": "https://localhost:8080/"
        },
        "id": "B0n1YkYfhb4s",
        "outputId": "64d21dfd-26b4-4946-e1f8-d04b2c888c50"
      },
      "source": [
        "for tweet in public_tweets:\n",
        "    print(tweet.text)\n",
        "    analysis = TextBlob(tweet.text)\n",
        "    print(analysis.sentiment) "
      ],
      "execution_count": null,
      "outputs": [
        {
          "output_type": "stream",
          "text": [
            "RT @J_A_Hudson: We are hiring: 10 new #JOBS  across a range of sub-fields at the Dept of Political Science/School of Public Policy at UCL.…\n",
            "Sentiment(polarity=0.04545454545454545, subjectivity=0.20707070707070707)\n",
            "@narendramodi @PMOIndia Need to bring New Age Restriction for female this year only as many young female will soon… https://t.co/KvPZuiapyp\n",
            "Sentiment(polarity=0.12272727272727273, subjectivity=0.4479797979797979)\n",
            "RT @jtlarsen: NEW: Bruce Reed has been opposed by @AOC and others for a Biden admin job due to his record on austerity.\n",
            "\n",
            "But Reed has also…\n",
            "Sentiment(polarity=0.005681818181818177, subjectivity=0.4147727272727273)\n",
            "RT @mattiocomms: In the new episode From Pot to Popular, Mary Pryor of @BeCannaclusive discusses how education and honest intentions are th…\n",
            "Sentiment(polarity=0.4454545454545455, subjectivity=0.7515151515151515)\n",
            "RT @mattiocomms: In the new episode From Pot to Popular, Mary Pryor of @BeCannaclusive discusses how education and honest intentions are th…\n",
            "Sentiment(polarity=0.4454545454545455, subjectivity=0.7515151515151515)\n",
            "In this session, Dr @MandarBhanushe covered a comprehensive overview of the New National Education policy, its far-… https://t.co/dy3Gv809Ad\n",
            "Sentiment(polarity=0.13636363636363635, subjectivity=0.45454545454545453)\n",
            "RT @jtlarsen: NEW: Bruce Reed has been opposed by @AOC and others for a Biden admin job due to his record on austerity.\n",
            "\n",
            "But Reed has also…\n",
            "Sentiment(polarity=0.005681818181818177, subjectivity=0.4147727272727273)\n",
            "I cannot emphasize how much the new AVP for online education at the U rocks. She's probably the most student-center… https://t.co/m86Jw62Oto\n",
            "Sentiment(polarity=0.2787878787878788, subjectivity=0.38484848484848483)\n",
            "RT @OISEUofT: Dean @GlenJonesOISE and alumni @MTamtik and Roopa Desai Trilokekar have been recognized by @CBIE_BCEI for leading a new book…\n",
            "Sentiment(polarity=0.13636363636363635, subjectivity=0.45454545454545453)\n",
            "RT @J_A_Hudson: We are hiring: 10 new #JOBS  across a range of sub-fields at the Dept of Political Science/School of Public Policy at UCL.…\n",
            "Sentiment(polarity=0.04545454545454545, subjectivity=0.20707070707070707)\n",
            "“The data on this is really clear. If we’re just talking about public schools in urban communities, the more autono… https://t.co/jcV7QhnQeF\n",
            "Sentiment(polarity=0.15, subjectivity=0.2375)\n",
            "RT @pnarahari: New Education Policy- States Perspective on School, Higher &amp; Technical Education Scenario: @pnarahari IAS, Commissioner, @mi…\n",
            "Sentiment(polarity=0.12878787878787878, subjectivity=0.35151515151515156)\n",
            "Check out our new #review on Yawen Han and David Cassels Johnson (2020): “Chinese Language Policy and Uyghur Youth:… https://t.co/CXMEnc16AY\n",
            "Sentiment(polarity=0.06818181818181818, subjectivity=0.22727272727272727)\n",
            "@asimkafan_8 Yes &amp; it has been introduced in the new education policy.\n",
            "Sentiment(polarity=0.13636363636363635, subjectivity=0.45454545454545453)\n",
            "RT @OISEUofT: Dean @GlenJonesOISE and alumni @MTamtik and Roopa Desai Trilokekar have been recognized by @CBIE_BCEI for leading a new book…\n",
            "Sentiment(polarity=0.13636363636363635, subjectivity=0.45454545454545453)\n"
          ],
          "name": "stdout"
        }
      ]
    },
    {
      "cell_type": "code",
      "metadata": {
        "id": "ummXMS-XhxVm"
      },
      "source": [
        "                        "
      ],
      "execution_count": null,
      "outputs": []
    },
    {
      "cell_type": "code",
      "metadata": {
        "id": "O_1A_riwopm0"
      },
      "source": [
        ""
      ],
      "execution_count": null,
      "outputs": []
    }
  ]
}